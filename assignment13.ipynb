{
 "cells": [
  {
   "cell_type": "markdown",
   "id": "df0d234f-1e1a-4495-8208-e177e7f527aa",
   "metadata": {},
   "source": [
    "Complete the exercises below For **Assignment #13**."
   ]
  },
  {
   "cell_type": "markdown",
   "id": "99d3796a-5167-4b91-b01b-d07279d2c0ce",
   "metadata": {},
   "source": [
    "Load the `ISLR2` and the `tidymodels` packages."
   ]
  },
  {
   "cell_type": "code",
   "execution_count": 38,
   "id": "0ddb641e-0631-4834-ab73-22505fd2631a",
   "metadata": {
    "tags": []
   },
   "outputs": [
    {
     "name": "stderr",
     "output_type": "stream",
     "text": [
      "── \u001b[1mAttaching core tidyverse packages\u001b[22m ──────────────────────── tidyverse 2.0.0 ──\n",
      "\u001b[32m✔\u001b[39m \u001b[34mforcats  \u001b[39m 1.0.0     \u001b[32m✔\u001b[39m \u001b[34mreadr    \u001b[39m 2.1.5\n",
      "\u001b[32m✔\u001b[39m \u001b[34mlubridate\u001b[39m 1.9.3     \u001b[32m✔\u001b[39m \u001b[34mstringr  \u001b[39m 1.5.1\n",
      "── \u001b[1mConflicts\u001b[22m ────────────────────────────────────────── tidyverse_conflicts() ──\n",
      "\u001b[31m✖\u001b[39m \u001b[34mreadr\u001b[39m::\u001b[32mcol_factor()\u001b[39m masks \u001b[34mscales\u001b[39m::col_factor()\n",
      "\u001b[31m✖\u001b[39m \u001b[34mpurrr\u001b[39m::\u001b[32mdiscard()\u001b[39m    masks \u001b[34mscales\u001b[39m::discard()\n",
      "\u001b[31m✖\u001b[39m \u001b[34mdplyr\u001b[39m::\u001b[32mfilter()\u001b[39m     masks \u001b[34mstats\u001b[39m::filter()\n",
      "\u001b[31m✖\u001b[39m \u001b[34mstringr\u001b[39m::\u001b[32mfixed()\u001b[39m    masks \u001b[34mrecipes\u001b[39m::fixed()\n",
      "\u001b[31m✖\u001b[39m \u001b[34mdplyr\u001b[39m::\u001b[32mlag()\u001b[39m        masks \u001b[34mstats\u001b[39m::lag()\n",
      "\u001b[31m✖\u001b[39m \u001b[34mreadr\u001b[39m::\u001b[32mspec()\u001b[39m       masks \u001b[34myardstick\u001b[39m::spec()\n",
      "\u001b[36mℹ\u001b[39m Use the conflicted package (\u001b[3m\u001b[34m<http://conflicted.r-lib.org/>\u001b[39m\u001b[23m) to force all conflicts to become errors\n"
     ]
    }
   ],
   "source": [
    "\n",
    "library('tidymodels')\n",
    "library('ISLR2')\n",
    "library('tidyverse')\n",
    "\n"
   ]
  },
  {
   "cell_type": "markdown",
   "id": "8faea7c9-123f-4664-bb30-7e4c3c864255",
   "metadata": {},
   "source": [
    "In this assignment we will use the `Default` dataset which includes the default status for credit card customers (`default` variable) in addition to each customer's:\n",
    "\n",
    "1. credit card balance (`balance` variable),\n",
    "1. student status (`student` variable), and,\n",
    "1. income (`income` variable)."
   ]
  },
  {
   "cell_type": "code",
   "execution_count": 40,
   "id": "0b0c3ba0-d37c-42bc-a46d-cbc614d72484",
   "metadata": {
    "tags": []
   },
   "outputs": [
    {
     "data": {
      "text/html": [
       "<table class=\"dataframe\">\n",
       "<caption>A data.frame: 6 × 4</caption>\n",
       "<thead>\n",
       "\t<tr><th></th><th scope=col>default</th><th scope=col>student</th><th scope=col>balance</th><th scope=col>income</th></tr>\n",
       "\t<tr><th></th><th scope=col>&lt;fct&gt;</th><th scope=col>&lt;fct&gt;</th><th scope=col>&lt;dbl&gt;</th><th scope=col>&lt;dbl&gt;</th></tr>\n",
       "</thead>\n",
       "<tbody>\n",
       "\t<tr><th scope=row>1</th><td>No</td><td>No </td><td> 729.5265</td><td>44361.625</td></tr>\n",
       "\t<tr><th scope=row>2</th><td>No</td><td>Yes</td><td> 817.1804</td><td>12106.135</td></tr>\n",
       "\t<tr><th scope=row>3</th><td>No</td><td>No </td><td>1073.5492</td><td>31767.139</td></tr>\n",
       "\t<tr><th scope=row>4</th><td>No</td><td>No </td><td> 529.2506</td><td>35704.494</td></tr>\n",
       "\t<tr><th scope=row>5</th><td>No</td><td>No </td><td> 785.6559</td><td>38463.496</td></tr>\n",
       "\t<tr><th scope=row>6</th><td>No</td><td>Yes</td><td> 919.5885</td><td> 7491.559</td></tr>\n",
       "</tbody>\n",
       "</table>\n"
      ],
      "text/latex": [
       "A data.frame: 6 × 4\n",
       "\\begin{tabular}{r|llll}\n",
       "  & default & student & balance & income\\\\\n",
       "  & <fct> & <fct> & <dbl> & <dbl>\\\\\n",
       "\\hline\n",
       "\t1 & No & No  &  729.5265 & 44361.625\\\\\n",
       "\t2 & No & Yes &  817.1804 & 12106.135\\\\\n",
       "\t3 & No & No  & 1073.5492 & 31767.139\\\\\n",
       "\t4 & No & No  &  529.2506 & 35704.494\\\\\n",
       "\t5 & No & No  &  785.6559 & 38463.496\\\\\n",
       "\t6 & No & Yes &  919.5885 &  7491.559\\\\\n",
       "\\end{tabular}\n"
      ],
      "text/markdown": [
       "\n",
       "A data.frame: 6 × 4\n",
       "\n",
       "| <!--/--> | default &lt;fct&gt; | student &lt;fct&gt; | balance &lt;dbl&gt; | income &lt;dbl&gt; |\n",
       "|---|---|---|---|---|\n",
       "| 1 | No | No  |  729.5265 | 44361.625 |\n",
       "| 2 | No | Yes |  817.1804 | 12106.135 |\n",
       "| 3 | No | No  | 1073.5492 | 31767.139 |\n",
       "| 4 | No | No  |  529.2506 | 35704.494 |\n",
       "| 5 | No | No  |  785.6559 | 38463.496 |\n",
       "| 6 | No | Yes |  919.5885 |  7491.559 |\n",
       "\n"
      ],
      "text/plain": [
       "  default student balance   income   \n",
       "1 No      No       729.5265 44361.625\n",
       "2 No      Yes      817.1804 12106.135\n",
       "3 No      No      1073.5492 31767.139\n",
       "4 No      No       529.2506 35704.494\n",
       "5 No      No       785.6559 38463.496\n",
       "6 No      Yes      919.5885  7491.559"
      ]
     },
     "metadata": {},
     "output_type": "display_data"
    }
   ],
   "source": [
    "Default |> head()"
   ]
  },
  {
   "cell_type": "markdown",
   "id": "d77d04d6-6882-44c3-8658-7fec6c73ac4e",
   "metadata": {},
   "source": [
    "We will be modeling `default` with the customer features.\n",
    "\n",
    "Before we begin let's count how many customers fall into each `default` category."
   ]
  },
  {
   "cell_type": "code",
   "execution_count": 41,
   "id": "45716b9b-22d9-4731-b8fe-c4f1fdb5e66f",
   "metadata": {
    "tags": []
   },
   "outputs": [
    {
     "data": {
      "text/html": [
       "<table class=\"dataframe\">\n",
       "<caption>A data.frame: 2 × 2</caption>\n",
       "<thead>\n",
       "\t<tr><th scope=col>default</th><th scope=col>n</th></tr>\n",
       "\t<tr><th scope=col>&lt;fct&gt;</th><th scope=col>&lt;int&gt;</th></tr>\n",
       "</thead>\n",
       "<tbody>\n",
       "\t<tr><td>No </td><td>9667</td></tr>\n",
       "\t<tr><td>Yes</td><td> 333</td></tr>\n",
       "</tbody>\n",
       "</table>\n"
      ],
      "text/latex": [
       "A data.frame: 2 × 2\n",
       "\\begin{tabular}{ll}\n",
       " default & n\\\\\n",
       " <fct> & <int>\\\\\n",
       "\\hline\n",
       "\t No  & 9667\\\\\n",
       "\t Yes &  333\\\\\n",
       "\\end{tabular}\n"
      ],
      "text/markdown": [
       "\n",
       "A data.frame: 2 × 2\n",
       "\n",
       "| default &lt;fct&gt; | n &lt;int&gt; |\n",
       "|---|---|\n",
       "| No  | 9667 |\n",
       "| Yes |  333 |\n",
       "\n"
      ],
      "text/plain": [
       "  default n   \n",
       "1 No      9667\n",
       "2 Yes      333"
      ]
     },
     "metadata": {},
     "output_type": "display_data"
    }
   ],
   "source": [
    "Default |> count(default)"
   ]
  },
  {
   "cell_type": "markdown",
   "id": "386b40ff-ab7e-4c72-baff-3cd3e2f78157",
   "metadata": {},
   "source": [
    "The data is quite imbalanced. This will be important to keep in mind when we evaluate the performance of our model later. "
   ]
  },
  {
   "cell_type": "markdown",
   "id": "f84af2a1-24e6-43d8-8e22-0a93ca3a01d4",
   "metadata": {},
   "source": [
    "Run the code below to create and training data from `Default`. We will use the \"test\" dataset at the end to get a final evaluation of our best model's accuracy."
   ]
  },
  {
   "cell_type": "code",
   "execution_count": 42,
   "id": "1d725ca5-77de-4025-8ce5-f8e0fef30992",
   "metadata": {
    "tags": []
   },
   "outputs": [],
   "source": [
    "Default_split = initial_split(Default, prop = 0.90, strata = default)\n",
    "\n",
    "Default_train = training(Default_split)\n",
    "Default_test = testing(Default_split)"
   ]
  },
  {
   "cell_type": "markdown",
   "id": "911248f2-2aff-41ce-a124-b455a49f3062",
   "metadata": {},
   "source": [
    "Create a logistic regression model called `mod`. Set the engine to `glm` and the mode to `classification`. "
   ]
  },
  {
   "cell_type": "code",
   "execution_count": 43,
   "id": "b46b8b34-9849-4db2-91a3-027869b944a9",
   "metadata": {},
   "outputs": [],
   "source": [
    "\n",
    "mod = logistic_reg() |> set_engine('glm') |> set_mode('classification')\n",
    "\n"
   ]
  },
  {
   "cell_type": "markdown",
   "id": "5c8a45b3-fba6-404e-940c-9b0a50485bab",
   "metadata": {},
   "source": [
    "Our data is imbalanced. As such, a naive model that *always* predicts a customer to **not default** would be correct quite often. Let's start by calculating the \"accuracy\" of a naive model. This will be the baseline accuracy by which we evaluate other models."
   ]
  },
  {
   "cell_type": "code",
   "execution_count": 46,
   "id": "2131ba72-af1e-46ac-b62e-fa694d36b7aa",
   "metadata": {},
   "outputs": [
    {
     "data": {
      "text/html": [
       "<table class=\"dataframe\">\n",
       "<caption>A tibble: 1 × 3</caption>\n",
       "<thead>\n",
       "\t<tr><th scope=col>.metric</th><th scope=col>.estimator</th><th scope=col>.estimate</th></tr>\n",
       "\t<tr><th scope=col>&lt;chr&gt;</th><th scope=col>&lt;chr&gt;</th><th scope=col>&lt;dbl&gt;</th></tr>\n",
       "</thead>\n",
       "<tbody>\n",
       "\t<tr><td>accuracy</td><td>binary</td><td>0.9666667</td></tr>\n",
       "</tbody>\n",
       "</table>\n"
      ],
      "text/latex": [
       "A tibble: 1 × 3\n",
       "\\begin{tabular}{lll}\n",
       " .metric & .estimator & .estimate\\\\\n",
       " <chr> & <chr> & <dbl>\\\\\n",
       "\\hline\n",
       "\t accuracy & binary & 0.9666667\\\\\n",
       "\\end{tabular}\n"
      ],
      "text/markdown": [
       "\n",
       "A tibble: 1 × 3\n",
       "\n",
       "| .metric &lt;chr&gt; | .estimator &lt;chr&gt; | .estimate &lt;dbl&gt; |\n",
       "|---|---|---|\n",
       "| accuracy | binary | 0.9666667 |\n",
       "\n"
      ],
      "text/plain": [
       "  .metric  .estimator .estimate\n",
       "1 accuracy binary     0.9666667"
      ]
     },
     "metadata": {},
     "output_type": "display_data"
    }
   ],
   "source": [
    "# This code calculates the accuracy of a model that always predicts default to be \"No\"\n",
    "\n",
    "Default_train |>\n",
    "    mutate(.pred_naive = factor('No', levels = c('No', 'Yes'))) |>\n",
    "    accuracy(truth = default, .pred_naive)"
   ]
  },
  {
   "cell_type": "markdown",
   "id": "ca30f2d1-9784-4142-a7bd-5ddcb14de08b",
   "metadata": {},
   "source": [
    "Let's use k-fold cross validation to evaluate the performance of a model where the outcome is `default` and the predictors are `income` and `balance`."
   ]
  },
  {
   "cell_type": "markdown",
   "id": "b5b639ce-a03c-48af-84d4-8f9e4d6d7ee4",
   "metadata": {},
   "source": [
    "To start, use `vfold_cv` to generate 10 validation folds (i.e. set the `v` variable to 10). Set the `strata` argument to `default` so we preserve the distribution of `default` values in each fold.\n",
    "\n",
    "Creat your folds below and use `glimpse` to look at the output table. Call your output folds tables \"folds\"."
   ]
  },
  {
   "cell_type": "code",
   "execution_count": 47,
   "id": "2a53ed42-03d9-4840-a702-d8f44f74e773",
   "metadata": {},
   "outputs": [
    {
     "name": "stdout",
     "output_type": "stream",
     "text": [
      "Rows: 10\n",
      "Columns: 2\n",
      "$ splits \u001b[3m\u001b[90m<list>\u001b[39m\u001b[23m [<vfold_split[9000 x 1000 x 10000 x 4]>], [<vfold_split[9000 x…\n",
      "$ id     \u001b[3m\u001b[90m<chr>\u001b[39m\u001b[23m \"Fold01\", \"Fold02\", \"Fold03\", \"Fold04\", \"Fold05\", \"Fold06\", \"Fo…\n"
     ]
    }
   ],
   "source": [
    "\n",
    "folds = vfold_cv(Default, v = 10, strata = 'default')\n",
    "\n",
    "folds |> glimpse()\n",
    "\n"
   ]
  },
  {
   "cell_type": "markdown",
   "id": "4bccb76b-ba91-48d6-95ec-88c679d91f2d",
   "metadata": {},
   "source": [
    "The code below fits a model to each of your 10 folds. `collect_metrics` finds the average of evaluation metrics for each of your ten models. "
   ]
  },
  {
   "cell_type": "code",
   "execution_count": 48,
   "id": "4b743466-c50b-491c-b476-0553cafa043d",
   "metadata": {},
   "outputs": [
    {
     "data": {
      "text/html": [
       "<table class=\"dataframe\">\n",
       "<caption>A tibble: 3 × 6</caption>\n",
       "<thead>\n",
       "\t<tr><th scope=col>.metric</th><th scope=col>.estimator</th><th scope=col>mean</th><th scope=col>n</th><th scope=col>std_err</th><th scope=col>.config</th></tr>\n",
       "\t<tr><th scope=col>&lt;chr&gt;</th><th scope=col>&lt;chr&gt;</th><th scope=col>&lt;dbl&gt;</th><th scope=col>&lt;int&gt;</th><th scope=col>&lt;dbl&gt;</th><th scope=col>&lt;chr&gt;</th></tr>\n",
       "</thead>\n",
       "<tbody>\n",
       "\t<tr><td>accuracy   </td><td>binary</td><td>0.97350000</td><td>10</td><td>0.001627882</td><td>Preprocessor1_Model1</td></tr>\n",
       "\t<tr><td>brier_class</td><td>binary</td><td>0.02147823</td><td>10</td><td>0.001099511</td><td>Preprocessor1_Model1</td></tr>\n",
       "\t<tr><td>roc_auc    </td><td>binary</td><td>0.94839630</td><td>10</td><td>0.004832559</td><td>Preprocessor1_Model1</td></tr>\n",
       "</tbody>\n",
       "</table>\n"
      ],
      "text/latex": [
       "A tibble: 3 × 6\n",
       "\\begin{tabular}{llllll}\n",
       " .metric & .estimator & mean & n & std\\_err & .config\\\\\n",
       " <chr> & <chr> & <dbl> & <int> & <dbl> & <chr>\\\\\n",
       "\\hline\n",
       "\t accuracy    & binary & 0.97350000 & 10 & 0.001627882 & Preprocessor1\\_Model1\\\\\n",
       "\t brier\\_class & binary & 0.02147823 & 10 & 0.001099511 & Preprocessor1\\_Model1\\\\\n",
       "\t roc\\_auc     & binary & 0.94839630 & 10 & 0.004832559 & Preprocessor1\\_Model1\\\\\n",
       "\\end{tabular}\n"
      ],
      "text/markdown": [
       "\n",
       "A tibble: 3 × 6\n",
       "\n",
       "| .metric &lt;chr&gt; | .estimator &lt;chr&gt; | mean &lt;dbl&gt; | n &lt;int&gt; | std_err &lt;dbl&gt; | .config &lt;chr&gt; |\n",
       "|---|---|---|---|---|---|\n",
       "| accuracy    | binary | 0.97350000 | 10 | 0.001627882 | Preprocessor1_Model1 |\n",
       "| brier_class | binary | 0.02147823 | 10 | 0.001099511 | Preprocessor1_Model1 |\n",
       "| roc_auc     | binary | 0.94839630 | 10 | 0.004832559 | Preprocessor1_Model1 |\n",
       "\n"
      ],
      "text/plain": [
       "  .metric     .estimator mean       n  std_err     .config             \n",
       "1 accuracy    binary     0.97350000 10 0.001627882 Preprocessor1_Model1\n",
       "2 brier_class binary     0.02147823 10 0.001099511 Preprocessor1_Model1\n",
       "3 roc_auc     binary     0.94839630 10 0.004832559 Preprocessor1_Model1"
      ]
     },
     "metadata": {},
     "output_type": "display_data"
    }
   ],
   "source": [
    "mod |> \n",
    "    fit_resamples(default ~ income + balance, folds) |>\n",
    "    collect_metrics()"
   ]
  },
  {
   "cell_type": "markdown",
   "id": "1f4e0354-98cc-4187-9b8b-34ec5dd54516",
   "metadata": {},
   "source": [
    "❓How does the model accuracy compare to the naive model from above?"
   ]
  },
  {
   "cell_type": "markdown",
   "id": "f5c8b2dc-3c23-45ac-bb64-7c132f3f81b0",
   "metadata": {},
   "source": [
    "\n",
    "The model accuracy (0.97350000) is slightly more accurate than the accuracy of the naive model.  \n"
   ]
  },
  {
   "cell_type": "markdown",
   "id": "fa0d203f-62cd-4543-9018-9f7ba0380320",
   "metadata": {},
   "source": [
    "Complete the cell below to evaluate a model also includes the `student` variable as as predictor.\n",
    "1. use `default ~ income + balance + student` as the formula,\n",
    "2. encode your `student` variable with `step_dummy`, and,\n",
    "3. don't forget to `prep` your recipe!"
   ]
  },
  {
   "cell_type": "code",
   "execution_count": 56,
   "id": "1c1db5b5-445e-4912-aeaa-5073ea17003f",
   "metadata": {},
   "outputs": [
    {
     "data": {
      "text/html": [
       "<table class=\"dataframe\">\n",
       "<caption>A tibble: 3 × 6</caption>\n",
       "<thead>\n",
       "\t<tr><th scope=col>.metric</th><th scope=col>.estimator</th><th scope=col>mean</th><th scope=col>n</th><th scope=col>std_err</th><th scope=col>.config</th></tr>\n",
       "\t<tr><th scope=col>&lt;chr&gt;</th><th scope=col>&lt;chr&gt;</th><th scope=col>&lt;dbl&gt;</th><th scope=col>&lt;int&gt;</th><th scope=col>&lt;dbl&gt;</th><th scope=col>&lt;chr&gt;</th></tr>\n",
       "</thead>\n",
       "<tbody>\n",
       "\t<tr><td>accuracy   </td><td>binary</td><td>0.97280000</td><td>10</td><td>0.001685230</td><td>Preprocessor1_Model1</td></tr>\n",
       "\t<tr><td>brier_class</td><td>binary</td><td>0.02140828</td><td>10</td><td>0.001147187</td><td>Preprocessor1_Model1</td></tr>\n",
       "\t<tr><td>roc_auc    </td><td>binary</td><td>0.94893241</td><td>10</td><td>0.005105788</td><td>Preprocessor1_Model1</td></tr>\n",
       "</tbody>\n",
       "</table>\n"
      ],
      "text/latex": [
       "A tibble: 3 × 6\n",
       "\\begin{tabular}{llllll}\n",
       " .metric & .estimator & mean & n & std\\_err & .config\\\\\n",
       " <chr> & <chr> & <dbl> & <int> & <dbl> & <chr>\\\\\n",
       "\\hline\n",
       "\t accuracy    & binary & 0.97280000 & 10 & 0.001685230 & Preprocessor1\\_Model1\\\\\n",
       "\t brier\\_class & binary & 0.02140828 & 10 & 0.001147187 & Preprocessor1\\_Model1\\\\\n",
       "\t roc\\_auc     & binary & 0.94893241 & 10 & 0.005105788 & Preprocessor1\\_Model1\\\\\n",
       "\\end{tabular}\n"
      ],
      "text/markdown": [
       "\n",
       "A tibble: 3 × 6\n",
       "\n",
       "| .metric &lt;chr&gt; | .estimator &lt;chr&gt; | mean &lt;dbl&gt; | n &lt;int&gt; | std_err &lt;dbl&gt; | .config &lt;chr&gt; |\n",
       "|---|---|---|---|---|---|\n",
       "| accuracy    | binary | 0.97280000 | 10 | 0.001685230 | Preprocessor1_Model1 |\n",
       "| brier_class | binary | 0.02140828 | 10 | 0.001147187 | Preprocessor1_Model1 |\n",
       "| roc_auc     | binary | 0.94893241 | 10 | 0.005105788 | Preprocessor1_Model1 |\n",
       "\n"
      ],
      "text/plain": [
       "  .metric     .estimator mean       n  std_err     .config             \n",
       "1 accuracy    binary     0.97280000 10 0.001685230 Preprocessor1_Model1\n",
       "2 brier_class binary     0.02140828 10 0.001147187 Preprocessor1_Model1\n",
       "3 roc_auc     binary     0.94893241 10 0.005105788 Preprocessor1_Model1"
      ]
     },
     "metadata": {},
     "output_type": "display_data"
    }
   ],
   "source": [
    "rec = recipe(default ~ income + balance + student, data=Default) |> step_dummy(student)\n",
    "\n",
    "\n",
    "\n",
    "mod |>\n",
    "    fit_resamples(rec, folds) |>\n",
    "    collect_metrics()"
   ]
  },
  {
   "cell_type": "markdown",
   "id": "5f06b110-6161-40af-816b-866097d83aad",
   "metadata": {},
   "source": [
    "❓Does it appear that the model that includes `student` improves upon the first model with only `income` and `balance` as predictors?"
   ]
  },
  {
   "cell_type": "markdown",
   "id": "e63fe053-339c-433c-a88d-96be13a3489d",
   "metadata": {},
   "source": [
    "\n",
    "Including student as a predictor does causes the model accuracy to decreases. \n"
   ]
  },
  {
   "cell_type": "markdown",
   "id": "7e15fcb1-cb13-4285-a264-6531c8a1ed17",
   "metadata": {},
   "source": [
    "Finally, estimate the accuracy of an `default ~ income + balance` model on the test data, `Default_test`. \n",
    "\n",
    "❓Does our model outperform a naive model?"
   ]
  },
  {
   "cell_type": "code",
   "execution_count": 57,
   "id": "12a41099-6a0e-4858-8cd2-fea3f1d2398d",
   "metadata": {},
   "outputs": [
    {
     "data": {
      "text/html": [
       "<table class=\"dataframe\">\n",
       "<caption>A tibble: 3 × 6</caption>\n",
       "<thead>\n",
       "\t<tr><th scope=col>.metric</th><th scope=col>.estimator</th><th scope=col>mean</th><th scope=col>n</th><th scope=col>std_err</th><th scope=col>.config</th></tr>\n",
       "\t<tr><th scope=col>&lt;chr&gt;</th><th scope=col>&lt;chr&gt;</th><th scope=col>&lt;dbl&gt;</th><th scope=col>&lt;int&gt;</th><th scope=col>&lt;dbl&gt;</th><th scope=col>&lt;chr&gt;</th></tr>\n",
       "</thead>\n",
       "<tbody>\n",
       "\t<tr><td>accuracy   </td><td>binary</td><td>0.97350000</td><td>10</td><td>0.001627882</td><td>Preprocessor1_Model1</td></tr>\n",
       "\t<tr><td>brier_class</td><td>binary</td><td>0.02147823</td><td>10</td><td>0.001099511</td><td>Preprocessor1_Model1</td></tr>\n",
       "\t<tr><td>roc_auc    </td><td>binary</td><td>0.94839630</td><td>10</td><td>0.004832559</td><td>Preprocessor1_Model1</td></tr>\n",
       "</tbody>\n",
       "</table>\n"
      ],
      "text/latex": [
       "A tibble: 3 × 6\n",
       "\\begin{tabular}{llllll}\n",
       " .metric & .estimator & mean & n & std\\_err & .config\\\\\n",
       " <chr> & <chr> & <dbl> & <int> & <dbl> & <chr>\\\\\n",
       "\\hline\n",
       "\t accuracy    & binary & 0.97350000 & 10 & 0.001627882 & Preprocessor1\\_Model1\\\\\n",
       "\t brier\\_class & binary & 0.02147823 & 10 & 0.001099511 & Preprocessor1\\_Model1\\\\\n",
       "\t roc\\_auc     & binary & 0.94839630 & 10 & 0.004832559 & Preprocessor1\\_Model1\\\\\n",
       "\\end{tabular}\n"
      ],
      "text/markdown": [
       "\n",
       "A tibble: 3 × 6\n",
       "\n",
       "| .metric &lt;chr&gt; | .estimator &lt;chr&gt; | mean &lt;dbl&gt; | n &lt;int&gt; | std_err &lt;dbl&gt; | .config &lt;chr&gt; |\n",
       "|---|---|---|---|---|---|\n",
       "| accuracy    | binary | 0.97350000 | 10 | 0.001627882 | Preprocessor1_Model1 |\n",
       "| brier_class | binary | 0.02147823 | 10 | 0.001099511 | Preprocessor1_Model1 |\n",
       "| roc_auc     | binary | 0.94839630 | 10 | 0.004832559 | Preprocessor1_Model1 |\n",
       "\n"
      ],
      "text/plain": [
       "  .metric     .estimator mean       n  std_err     .config             \n",
       "1 accuracy    binary     0.97350000 10 0.001627882 Preprocessor1_Model1\n",
       "2 brier_class binary     0.02147823 10 0.001099511 Preprocessor1_Model1\n",
       "3 roc_auc     binary     0.94839630 10 0.004832559 Preprocessor1_Model1"
      ]
     },
     "metadata": {},
     "output_type": "display_data"
    }
   ],
   "source": [
    "\n",
    "rec = recipe(default ~ income + balance, data=Default_test)\n",
    "\n",
    "\n",
    "\n",
    "mod |>\n",
    "    fit_resamples(rec, folds) |>\n",
    "    collect_metrics()\n"
   ]
  },
  {
   "cell_type": "markdown",
   "id": "5a7ed879-f317-467c-9728-ec399b030102",
   "metadata": {},
   "source": [
    "\n",
    "Yes, but only slightly.\n"
   ]
  },
  {
   "cell_type": "code",
   "execution_count": null,
   "id": "8d04dede-b388-47bb-b90c-3d990eeae4f2",
   "metadata": {},
   "outputs": [],
   "source": []
  }
 ],
 "metadata": {
  "kernelspec": {
   "display_name": ".conda-data730:R",
   "language": "R",
   "name": "conda-env-.conda-data730-r"
  },
  "language_info": {
   "codemirror_mode": "r",
   "file_extension": ".r",
   "mimetype": "text/x-r-source",
   "name": "R",
   "pygments_lexer": "r",
   "version": "4.3.3"
  }
 },
 "nbformat": 4,
 "nbformat_minor": 5
}
